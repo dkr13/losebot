{
 "cells": [
  {
   "cell_type": "code",
   "execution_count": null,
   "metadata": {},
   "outputs": [],
   "source": [
    "import os\n",
    "import pandas as pd\n",
    "import numpy as np\n",
    "import matplotlib.pyplot as plt"
   ]
  },
  {
   "cell_type": "code",
   "execution_count": null,
   "metadata": {},
   "outputs": [],
   "source": [
    "DOWNLOAD_DIR = './downloaded_loseit_food_exercise'"
   ]
  },
  {
   "cell_type": "code",
   "execution_count": null,
   "metadata": {},
   "outputs": [],
   "source": [
    "# read and clean up data\n",
    "\n",
    "unparsed = pd.io.parsers.read_csv(\n",
    "    'merged.csv',\n",
    "    sep=',',\n",
    "    thousands=',',\n",
    "    index_col=False\n",
    ")\n",
    "\n",
    "data = unparsed.groupby('Date', as_index=False).sum()[[\n",
    "    'Date',\n",
    "    'Calories',\n",
    "    'Fat (g)',\n",
    "    'Protein (g)',\n",
    "    'Carbohydrates (g)',\n",
    "    'Saturated Fat (g)',\n",
    "    'Sugars (g)',\n",
    "    'Fiber (g)',\n",
    "    'Cholesterol (mg)',\n",
    "    'Sodium (mg)',\n",
    "]]\n",
    "\n",
    "def reverse_date(date):\n",
    "    comp = date.split('/')\n",
    "    return f'{comp[2]}-{comp[0]}-{comp[1]}'\n",
    "\n",
    "data['Date'] = data['Date'].map(reverse_date)\n",
    "data = data.sort_values('Date')\n",
    "original_data = data"
   ]
  },
  {
   "cell_type": "markdown",
   "metadata": {},
   "source": [
    "# Visualization"
   ]
  },
  {
   "cell_type": "code",
   "execution_count": null,
   "metadata": {},
   "outputs": [],
   "source": [
    "# data = original_data[original_data['Date'] >= '2020-02-01']  # after specific date\n",
    "data = original_data.tail(30)  # last 30 days\n",
    "\n",
    "labels = data['Date']\n",
    "x = [i + 1 for i in range(len(labels))]\n",
    "y_calories = data['Calories']\n",
    "y_protein = data['Protein (g)']\n",
    "y_carbohydrates = data['Carbohydrates (g)']\n",
    "y_fat = data['Saturated Fat (g)']\n",
    "fig, ax1 = plt.subplots(figsize=(16, 8))\n",
    "\n",
    "ax1.set_xlabel('Date')\n",
    "ax1.set_ylabel('kcal')\n",
    "ax1.plot(x, y_calories, '-k', label='Calories')\n",
    "ax1.set_xticks(x)\n",
    "ax1.set_xticklabels(labels, rotation='vertical')\n",
    "\n",
    "ax2 = ax1.twinx()\n",
    "ax2.set_ylabel('g')\n",
    "ax2.plot(x, y_protein, ':b', label='Protein (g)')\n",
    "ax2.plot(x, y_carbohydrates, ':g', label='Carbohydrates (g)')\n",
    "ax2.plot(x, y_fat, ':r', label='Saturated Fat (g)')\n",
    "\n",
    "for label in ax1.get_xticklabels()[::2]:\n",
    "    # only print every other x-axis label\n",
    "    label.set_visible(False)\n",
    "ax1.set_ylim(bottom=0)\n",
    "\n",
    "ax1.legend(loc='upper left')\n",
    "ax2.legend(loc='upper right')\n",
    "pass"
   ]
  },
  {
   "cell_type": "code",
   "execution_count": null,
   "metadata": {},
   "outputs": [],
   "source": []
  }
 ],
 "metadata": {
  "kernelspec": {
   "display_name": "Python 3",
   "language": "python",
   "name": "python3"
  },
  "language_info": {
   "codemirror_mode": {
    "name": "ipython",
    "version": 3
   },
   "file_extension": ".py",
   "mimetype": "text/x-python",
   "name": "python",
   "nbconvert_exporter": "python",
   "pygments_lexer": "ipython3",
   "version": "3.7.4"
  }
 },
 "nbformat": 4,
 "nbformat_minor": 2
}
